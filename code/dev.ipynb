{
 "cells": [
  {
   "cell_type": "code",
   "execution_count": 1,
   "metadata": {},
   "outputs": [],
   "source": [
    "import os\n",
    "from pathlib import Path\n",
    "import numpy as np\n",
    "import pandas as pd\n",
    "\n",
    "import matplotlib.pyplot as plt\n",
    "from tqdm import tqdm\n",
    "from sklearn.decomposition import PCA\n",
    "import utils"
   ]
  },
  {
   "cell_type": "code",
   "execution_count": 2,
   "metadata": {},
   "outputs": [],
   "source": [
    "# prefered magic functions for jupyter notebook\n",
    "%load_ext autoreload\n",
    "%autoreload 2\n",
    "%matplotlib inline"
   ]
  },
  {
   "cell_type": "code",
   "execution_count": 3,
   "metadata": {},
   "outputs": [],
   "source": [
    "import matplotlib\n",
    "matplotlib.rc('xtick', labelsize=20) \n",
    "matplotlib.rc('ytick', labelsize=20) "
   ]
  },
  {
   "cell_type": "code",
   "execution_count": 4,
   "metadata": {},
   "outputs": [],
   "source": [
    "zarr_files = utils.find_files(root_dir = '/root/capsule/data', endswith='zarr')"
   ]
  },
  {
   "cell_type": "code",
   "execution_count": 5,
   "metadata": {},
   "outputs": [
    {
     "data": {
      "text/plain": [
       "['/root/capsule/data/me_test2/721291_Face_21707174-ce69-4ce2-b7b5-9e0ce26bbc59/motion_energy_frames.zarr',\n",
       " '/root/capsule/data/me_test2/721291_Face_ff11a262-7cbd-4576-8548-1558d6bda9d1/motion_energy_frames.zarr',\n",
       " '/root/capsule/data/me_test2/721291_Face_d33cb1d6-b65b-4d2f-8fbd-e93136fd44ae/motion_energy_frames.zarr']"
      ]
     },
     "execution_count": 5,
     "metadata": {},
     "output_type": "execute_result"
    }
   ],
   "source": [
    "zarr_files"
   ]
  },
  {
   "cell_type": "code",
   "execution_count": 6,
   "metadata": {},
   "outputs": [],
   "source": [
    "pkl_files = utils.find_files(root_dir = '/root/capsule/data', endswith='.pkl', return_dir=False)"
   ]
  },
  {
   "cell_type": "code",
   "execution_count": 7,
   "metadata": {},
   "outputs": [
    {
     "data": {
      "text/plain": [
       "['/root/capsule/data/me_test2/721291_Face_21707174-ce69-4ce2-b7b5-9e0ce26bbc59/721291_Face_21707174-ce69-4ce2-b7b5-9e0ce26bbc59.pkl',\n",
       " '/root/capsule/data/me_test2/721291_Face_ff11a262-7cbd-4576-8548-1558d6bda9d1/721291_Face_ff11a262-7cbd-4576-8548-1558d6bda9d1.pkl',\n",
       " '/root/capsule/data/me_test2/721291_Face_d33cb1d6-b65b-4d2f-8fbd-e93136fd44ae/721291_Face_d33cb1d6-b65b-4d2f-8fbd-e93136fd44ae.pkl']"
      ]
     },
     "execution_count": 7,
     "metadata": {},
     "output_type": "execute_result"
    }
   ],
   "source": [
    "pkl_files"
   ]
  },
  {
   "cell_type": "code",
   "execution_count": 8,
   "metadata": {},
   "outputs": [],
   "source": [
    "import zarr\n",
    "import dask\n",
    "import dask.array as da\n",
    "me_store = zarr.DirectoryStore(zarr_files[0])\n",
    "me_frames = da.from_zarr(me_store, component='data')"
   ]
  },
  {
   "cell_type": "code",
   "execution_count": 14,
   "metadata": {},
   "outputs": [],
   "source": [
    "### Use object\n",
    "from PCAgenerator import PCAgenerator"
   ]
  },
  {
   "cell_type": "code",
   "execution_count": 15,
   "metadata": {},
   "outputs": [],
   "source": [
    "me_pca = PCAgenerator(zarr_files[0])"
   ]
  },
  {
   "cell_type": "code",
   "execution_count": 21,
   "metadata": {},
   "outputs": [
    {
     "name": "stdout",
     "output_type": "stream",
     "text": [
      "Loaded frames (272033, 492, 658)\n",
      "Crop region: x=100, y=100, width=300, height=200\n",
      "Applying crop to me frames (100, 100, 300, 200)\n",
      "Converting frames to NumPy array for PCA...\n"
     ]
    },
    {
     "data": {
      "text/plain": [
       "(PCA(n_components=3),\n",
       " array([[ 3.5054105e+04,  5.4319318e+02, -1.5032871e+03],\n",
       "        [-3.5681269e+00,  1.5523040e+01,  5.4613793e-01],\n",
       "        [-1.1577520e+01,  2.4080317e+01, -3.4872303e+00],\n",
       "        ...,\n",
       "        [ 5.1605926e+00, -5.2077141e+00,  1.6703035e+00],\n",
       "        [ 1.0894920e+01, -1.2476685e+01,  3.5022507e+00],\n",
       "        [-2.3348894e+00,  1.3800434e+01, -1.0595108e+01]], dtype=float32))"
      ]
     },
     "execution_count": 21,
     "metadata": {},
     "output_type": "execute_result"
    }
   ],
   "source": [
    "me_pca.apply_pca_to_motion_energy()"
   ]
  },
  {
   "cell_type": "code",
   "execution_count": 22,
   "metadata": {},
   "outputs": [
    {
     "data": {
      "text/plain": [
       "array([[[-7.82399875e-05, -7.82063944e-05, -7.80083865e-05, ...,\n",
       "         -8.10501297e-05, -8.09940393e-05, -8.08094919e-05],\n",
       "        [-7.76999368e-05, -7.76227607e-05, -7.76326851e-05, ...,\n",
       "         -8.07332108e-05, -8.07309116e-05, -8.06716198e-05],\n",
       "        [-7.72662388e-05, -7.71931518e-05, -7.72803178e-05, ...,\n",
       "         -8.03297953e-05, -8.03680523e-05, -8.02836876e-05],\n",
       "        ...,\n",
       "        [-6.50282091e-05, -6.85367995e-05, -6.95419076e-05, ...,\n",
       "          1.71799431e-04,  2.00609138e-04,  2.60415924e-04],\n",
       "        [-6.57750134e-05, -6.92581380e-05, -6.95703493e-05, ...,\n",
       "          1.64080906e-04,  1.93833956e-04,  2.50784477e-04],\n",
       "        [-6.39888312e-05, -6.77792850e-05, -6.83265171e-05, ...,\n",
       "          1.66072859e-04,  1.90034814e-04,  2.44626513e-04]],\n",
       "\n",
       "       [[ 1.48505205e-03,  1.48449908e-03,  1.48542167e-03, ...,\n",
       "          1.48295879e-03,  1.48562843e-03,  1.49053382e-03],\n",
       "        [ 1.48723891e-03,  1.48736220e-03,  1.48613297e-03, ...,\n",
       "          1.48558943e-03,  1.48765731e-03,  1.49193569e-03],\n",
       "        [ 1.48902403e-03,  1.48865453e-03,  1.48730224e-03, ...,\n",
       "          1.48861075e-03,  1.49133208e-03,  1.49670849e-03],\n",
       "        ...,\n",
       "        [-3.56958160e-04,  1.75119640e-05,  8.62891466e-05, ...,\n",
       "         -4.14469279e-02, -4.57656756e-02, -5.00603206e-02],\n",
       "        [-2.99788837e-04,  8.37481930e-05,  3.72241229e-05, ...,\n",
       "         -4.06941213e-02, -4.47482318e-02, -4.92230728e-02],\n",
       "        [-4.99206537e-04, -1.00365745e-04, -9.96389645e-05, ...,\n",
       "         -4.10603546e-02, -4.44180220e-02, -4.80525754e-02]],\n",
       "\n",
       "       [[-1.75708032e-03, -1.75739115e-03, -1.75996614e-03, ...,\n",
       "         -1.70907599e-03, -1.71029859e-03, -1.71358068e-03],\n",
       "        [-1.76404649e-03, -1.76500843e-03, -1.76466827e-03, ...,\n",
       "         -1.71370909e-03, -1.71427056e-03, -1.71598105e-03],\n",
       "        [-1.76961569e-03, -1.77046913e-03, -1.76916702e-03, ...,\n",
       "         -1.71933626e-03, -1.71951507e-03, -1.72170799e-03],\n",
       "        ...,\n",
       "        [-1.61124719e-03, -1.61033426e-03, -1.62397744e-03, ...,\n",
       "          3.63729887e-05,  1.39497773e-04,  6.26813344e-05],\n",
       "        [-1.61739707e-03, -1.61888474e-03, -1.63032790e-03, ...,\n",
       "         -7.00075834e-05,  4.33857940e-06, -1.27064937e-04],\n",
       "        [-1.61611266e-03, -1.62015844e-03, -1.62875617e-03, ...,\n",
       "         -2.74296763e-04, -2.90270429e-04, -4.53275221e-04]]],\n",
       "      dtype=float32)"
      ]
     },
     "execution_count": 22,
     "metadata": {},
     "output_type": "execute_result"
    }
   ],
   "source": [
    "\n",
    "me_pca.spatial_masks"
   ]
  },
  {
   "cell_type": "code",
   "execution_count": null,
   "metadata": {},
   "outputs": [],
   "source": []
  }
 ],
 "metadata": {
  "kernelspec": {
   "display_name": "base",
   "language": "python",
   "name": "python3"
  },
  "language_info": {
   "codemirror_mode": {
    "name": "ipython",
    "version": 3
   },
   "file_extension": ".py",
   "mimetype": "text/x-python",
   "name": "python",
   "nbconvert_exporter": "python",
   "pygments_lexer": "ipython3",
   "version": "3.8.5"
  },
  "orig_nbformat": 4,
  "vscode": {
   "interpreter": {
    "hash": "d4d1e4263499bec80672ea0156c357c1ee493ec2b1c70f0acce89fc37c4a6abe"
   }
  }
 },
 "nbformat": 4,
 "nbformat_minor": 2
}
