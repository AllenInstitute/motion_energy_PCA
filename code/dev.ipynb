{
 "cells": [
  {
   "cell_type": "code",
   "execution_count": 2,
   "metadata": {},
   "outputs": [],
   "source": [
    "import os\n",
    "from pathlib import Path\n",
    "import numpy as np\n",
    "import pandas as pd\n",
    "\n",
    "import matplotlib.pyplot as plt\n",
    "from tqdm import tqdm\n",
    "from sklearn.decomposition import PCA\n",
    "import utils"
   ]
  },
  {
   "cell_type": "code",
   "execution_count": 3,
   "metadata": {},
   "outputs": [],
   "source": [
    "# prefered magic functions for jupyter notebook\n",
    "%load_ext autoreload\n",
    "%autoreload 2\n",
    "%matplotlib inline"
   ]
  },
  {
   "cell_type": "code",
   "execution_count": 4,
   "metadata": {},
   "outputs": [],
   "source": [
    "import matplotlib\n",
    "matplotlib.rc('xtick', labelsize=20) \n",
    "matplotlib.rc('ytick', labelsize=20) "
   ]
  },
  {
   "cell_type": "code",
   "execution_count": 5,
   "metadata": {},
   "outputs": [],
   "source": [
    "zarr_files = utils.find_files(root_dir = '/root/capsule/data', endswith='zarr')"
   ]
  },
  {
   "cell_type": "code",
   "execution_count": 6,
   "metadata": {},
   "outputs": [
    {
     "data": {
      "text/plain": [
       "['/root/capsule/data/me_test2/721291_Face_21707174-ce69-4ce2-b7b5-9e0ce26bbc59/motion_energy_frames.zarr',\n",
       " '/root/capsule/data/me_test2/721291_Face_ff11a262-7cbd-4576-8548-1558d6bda9d1/motion_energy_frames.zarr',\n",
       " '/root/capsule/data/me_test2/721291_Face_d33cb1d6-b65b-4d2f-8fbd-e93136fd44ae/motion_energy_frames.zarr']"
      ]
     },
     "execution_count": 6,
     "metadata": {},
     "output_type": "execute_result"
    }
   ],
   "source": [
    "zarr_files"
   ]
  },
  {
   "cell_type": "code",
   "execution_count": 7,
   "metadata": {},
   "outputs": [],
   "source": [
    "pkl_files = utils.find_files(root_dir = '/root/capsule/data', endswith='.pkl', return_dir=False)"
   ]
  },
  {
   "cell_type": "code",
   "execution_count": 8,
   "metadata": {},
   "outputs": [
    {
     "data": {
      "text/plain": [
       "['/root/capsule/data/me_test2/721291_Face_21707174-ce69-4ce2-b7b5-9e0ce26bbc59/721291_Face_21707174-ce69-4ce2-b7b5-9e0ce26bbc59.pkl',\n",
       " '/root/capsule/data/me_test2/721291_Face_ff11a262-7cbd-4576-8548-1558d6bda9d1/721291_Face_ff11a262-7cbd-4576-8548-1558d6bda9d1.pkl',\n",
       " '/root/capsule/data/me_test2/721291_Face_d33cb1d6-b65b-4d2f-8fbd-e93136fd44ae/721291_Face_d33cb1d6-b65b-4d2f-8fbd-e93136fd44ae.pkl']"
      ]
     },
     "execution_count": 8,
     "metadata": {},
     "output_type": "execute_result"
    }
   ],
   "source": [
    "pkl_files"
   ]
  },
  {
   "cell_type": "code",
   "execution_count": 25,
   "metadata": {},
   "outputs": [],
   "source": [
    "meta_obj = utils.load_pickle_file(pkl_files[0])"
   ]
  },
  {
   "cell_type": "code",
   "execution_count": null,
   "metadata": {},
   "outputs": [],
   "source": [
    "meta_obj."
   ]
  },
  {
   "cell_type": "code",
   "execution_count": 32,
   "metadata": {},
   "outputs": [
    {
     "data": {
      "text/plain": [
       "60"
      ]
     },
     "execution_count": 32,
     "metadata": {},
     "output_type": "execute_result"
    }
   ],
   "source": [
    "meta_obj.loaded_metadata['fps']"
   ]
  },
  {
   "cell_type": "code",
   "execution_count": 9,
   "metadata": {},
   "outputs": [],
   "source": [
    "import zarr\n",
    "import dask\n",
    "import dask.array as da\n",
    "me_store = zarr.DirectoryStore(zarr_files[0])\n",
    "me_frames = da.from_zarr(me_store, component='data')"
   ]
  },
  {
   "cell_type": "code",
   "execution_count": 10,
   "metadata": {},
   "outputs": [],
   "source": [
    "### Use object\n",
    "from PCAgenerator import PCAgenerator"
   ]
  },
  {
   "cell_type": "code",
   "execution_count": 11,
   "metadata": {},
   "outputs": [],
   "source": [
    "me_pca = PCAgenerator(zarr_files[0], crop_region=(100, 100, 300, 200))"
   ]
  },
  {
   "cell_type": "code",
   "execution_count": 13,
   "metadata": {},
   "outputs": [
    {
     "name": "stdout",
     "output_type": "stream",
     "text": [
      "Loaded frames (272033, 492, 658)\n",
      "Applying crop to me frames (100, 100, 300, 200)\n",
      "Converting frames to NumPy array for PCA...\n"
     ]
    },
    {
     "data": {
      "text/plain": [
       "(PCA(n_components=3),\n",
       " array([[ 3.5054113e+04,  5.4318939e+02, -1.5034628e+03],\n",
       "        [-3.5681245e+00,  1.5522337e+01,  5.3694278e-01],\n",
       "        [-1.1577512e+01,  2.4080275e+01, -3.4856684e+00],\n",
       "        ...,\n",
       "        [ 5.1605968e+00, -5.2076540e+00,  1.6726551e+00],\n",
       "        [ 1.0894930e+01, -1.2476858e+01,  3.5035310e+00],\n",
       "        [-2.3348820e+00,  1.3800346e+01, -1.0598356e+01]], dtype=float32))"
      ]
     },
     "execution_count": 13,
     "metadata": {},
     "output_type": "execute_result"
    }
   ],
   "source": [
    "me_pca._apply_pca_to_motion_energy()"
   ]
  },
  {
   "cell_type": "code",
   "execution_count": 21,
   "metadata": {},
   "outputs": [
    {
     "data": {
      "image/png": "[encoded data removed]",
      "text/plain": [
       "<Figure size 648x144 with 6 Axes>"
      ]
     },
     "metadata": {
      "needs_background": "light"
     },
     "output_type": "display_data"
    }
   ],
   "source": [
    "\n",
    "fig = me_pca.plot_spatial_masks()"
   ]
  },
  {
   "cell_type": "code",
   "execution_count": 23,
   "metadata": {},
   "outputs": [
    {
     "data": {
      "image/png": "[encoded data removed]",
      "text/plain": [
       "<Figure size 288x144 with 1 Axes>"
      ]
     },
     "metadata": {
      "needs_background": "light"
     },
     "output_type": "display_data"
    }
   ],
   "source": [
    "fig = me_pca.plot_explained_variance()"
   ]
  },
  {
   "cell_type": "code",
   "execution_count": 17,
   "metadata": {},
   "outputs": [],
   "source": []
  },
  {
   "cell_type": "code",
   "execution_count": null,
   "metadata": {},
   "outputs": [],
   "source": []
  }
 ],
 "metadata": {
  "kernelspec": {
   "display_name": "base",
   "language": "python",
   "name": "python3"
  },
  "language_info": {
   "codemirror_mode": {
    "name": "ipython",
    "version": 3
   },
   "file_extension": ".py",
   "mimetype": "text/x-python",
   "name": "python",
   "nbconvert_exporter": "python",
   "pygments_lexer": "ipython3",
   "version": "3.8.5"
  },
  "orig_nbformat": 4,
  "vscode": {
   "interpreter": {
    "hash": "d4d1e4263499bec80672ea0156c357c1ee493ec2b1c70f0acce89fc37c4a6abe"
   }
  }
 },
 "nbformat": 4,
 "nbformat_minor": 2
}
